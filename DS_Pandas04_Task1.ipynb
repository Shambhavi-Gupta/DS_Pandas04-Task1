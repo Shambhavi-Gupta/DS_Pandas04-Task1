{
  "nbformat": 4,
  "nbformat_minor": 0,
  "metadata": {
    "colab": {
      "name": "DS_Pandas04-Task1.ipynb",
      "provenance": [],
      "authorship_tag": "ABX9TyNiwMo5icXy020pQ/ft1l9P",
      "include_colab_link": true
    },
    "kernelspec": {
      "name": "python3",
      "display_name": "Python 3"
    }
  },
  "cells": [
    {
      "cell_type": "markdown",
      "metadata": {
        "id": "view-in-github",
        "colab_type": "text"
      },
      "source": [
        "<a href=\"https://colab.research.google.com/github/Shambhavi-Gupta/DS_Pandas04-Task1/blob/master/DS_Pandas04_Task1.ipynb\" target=\"_parent\"><img src=\"https://colab.research.google.com/assets/colab-badge.svg\" alt=\"Open In Colab\"/></a>"
      ]
    },
    {
      "cell_type": "code",
      "metadata": {
        "id": "Njqcvwyb6-Ka",
        "colab_type": "code",
        "colab": {}
      },
      "source": [
        "import numpy as np\n",
        "import pandas as pd"
      ],
      "execution_count": null,
      "outputs": []
    },
    {
      "cell_type": "markdown",
      "metadata": {
        "id": "_k5Se-xR7TWP",
        "colab_type": "text"
      },
      "source": [
        "#**Task 1:**\n",
        "\n",
        "Collect numbers for the diameters of these planets(hevenly bodies) and store it in a series objects.Then given these two series objects mass and diameter, compute density of each planet"
      ]
    },
    {
      "cell_type": "code",
      "metadata": {
        "id": "HNQ77I997SPA",
        "colab_type": "code",
        "colab": {}
      },
      "source": [
        "mass = pd.Series([0.33 , 4.87 , 5.97 , 0.642 , 1898 , 568 , 86.8 , 102 , 0.0146],\n",
        "                 index = ['Mercury', 'Venus', 'Earth', 'Mars', 'Jupiter', 'Saturn', 'Uranus', 'Neptune', 'Pluto'])"
      ],
      "execution_count": null,
      "outputs": []
    },
    {
      "cell_type": "code",
      "metadata": {
        "id": "AdN7a_zE779t",
        "colab_type": "code",
        "colab": {}
      },
      "source": [
        "diameter = pd.Series([4879, 12104, 12756, 3475, 6792, 142984, 120536, 51118, 49528, 2370],\n",
        "                     index =['Mercury', 'Venus', 'Earth','Moon', 'Mars', 'Jupiter', 'Saturn','Uranus','Neptune', 'Pluto'])"
      ],
      "execution_count": null,
      "outputs": []
    },
    {
      "cell_type": "code",
      "metadata": {
        "id": "1ihIIzb98s98",
        "colab_type": "code",
        "colab": {
          "base_uri": "https://localhost:8080/",
          "height": 71
        },
        "outputId": "f9c561c8-12e4-4910-d820-9a59125e2f4d"
      },
      "source": [
        "density = pd.Series([])"
      ],
      "execution_count": null,
      "outputs": [
        {
          "output_type": "stream",
          "text": [
            "/usr/local/lib/python3.6/dist-packages/ipykernel_launcher.py:1: DeprecationWarning: The default dtype for empty Series will be 'object' instead of 'float64' in a future version. Specify a dtype explicitly to silence this warning.\n",
            "  \"\"\"Entry point for launching an IPython kernel.\n"
          ],
          "name": "stderr"
        }
      ]
    },
    {
      "cell_type": "code",
      "metadata": {
        "id": "T30EmiJy86yx",
        "colab_type": "code",
        "colab": {
          "base_uri": "https://localhost:8080/",
          "height": 34
        },
        "outputId": "61cc3852-bbab-4817-ade2-0216c97797dc"
      },
      "source": [
        "print(density)"
      ],
      "execution_count": null,
      "outputs": [
        {
          "output_type": "stream",
          "text": [
            "Series([], dtype: float64)\n"
          ],
          "name": "stdout"
        }
      ]
    },
    {
      "cell_type": "code",
      "metadata": {
        "id": "bcB1zUBP9RNO",
        "colab_type": "code",
        "colab": {}
      },
      "source": [
        "mass['Moon'] = 0.7346"
      ],
      "execution_count": null,
      "outputs": []
    },
    {
      "cell_type": "code",
      "metadata": {
        "id": "PVz9-8Gv89k3",
        "colab_type": "code",
        "colab": {
          "base_uri": "https://localhost:8080/",
          "height": 204
        },
        "outputId": "115ae308-178a-4a93-9071-5bb527a8760f"
      },
      "source": [
        "mass\n"
      ],
      "execution_count": null,
      "outputs": [
        {
          "output_type": "execute_result",
          "data": {
            "text/plain": [
              "Mercury       0.3300\n",
              "Venus         4.8700\n",
              "Earth         5.9700\n",
              "Mars          0.6420\n",
              "Jupiter    1898.0000\n",
              "Saturn      568.0000\n",
              "Uranus       86.8000\n",
              "Neptune     102.0000\n",
              "Pluto         0.0146\n",
              "Moon          0.7346\n",
              "dtype: float64"
            ]
          },
          "metadata": {
            "tags": []
          },
          "execution_count": 24
        }
      ]
    },
    {
      "cell_type": "code",
      "metadata": {
        "id": "YTyrfRu_9Esr",
        "colab_type": "code",
        "colab": {
          "base_uri": "https://localhost:8080/",
          "height": 204
        },
        "outputId": "992861b5-b082-42d0-88a6-8ae5de4dd717"
      },
      "source": [
        "diameter"
      ],
      "execution_count": null,
      "outputs": [
        {
          "output_type": "execute_result",
          "data": {
            "text/plain": [
              "Mercury      4879\n",
              "Venus       12104\n",
              "Earth       12756\n",
              "Moon         3475\n",
              "Mars         6792\n",
              "Jupiter    142984\n",
              "Saturn     120536\n",
              "Uranus      51118\n",
              "Neptune     49528\n",
              "Pluto        2370\n",
              "dtype: int64"
            ]
          },
          "metadata": {
            "tags": []
          },
          "execution_count": 28
        }
      ]
    },
    {
      "cell_type": "code",
      "metadata": {
        "id": "SDEM2vx79GIf",
        "colab_type": "code",
        "colab": {}
      },
      "source": [
        "for planet in mass.index:\n",
        "    density[planet] = mass[planet] / (np.pi * diameter[planet] * diameter[planet] * diameter[planet] /6)"
      ],
      "execution_count": null,
      "outputs": []
    },
    {
      "cell_type": "code",
      "metadata": {
        "id": "NTmXHAWJ-C2E",
        "colab_type": "code",
        "colab": {
          "base_uri": "https://localhost:8080/",
          "height": 204
        },
        "outputId": "cc45804e-4ccc-46b6-da08-70ece6b16455"
      },
      "source": [
        "print(density)"
      ],
      "execution_count": null,
      "outputs": [
        {
          "output_type": "stream",
          "text": [
            "Mercury    5.426538e-12\n",
            "Venus      5.244977e-12\n",
            "Earth      5.493286e-12\n",
            "Mars       3.913302e-12\n",
            "Jupiter    1.240039e-12\n",
            "Saturn     6.194402e-13\n",
            "Uranus     1.241079e-12\n",
            "Neptune    1.603427e-12\n",
            "Pluto      2.094639e-12\n",
            "Moon       3.343396e-11\n",
            "dtype: float64\n"
          ],
          "name": "stdout"
        }
      ]
    },
    {
      "cell_type": "code",
      "metadata": {
        "id": "UopniQvhAB_K",
        "colab_type": "code",
        "colab": {}
      },
      "source": [
        "density = mass / (np.pi * np.power(diameter, 3) / 6)"
      ],
      "execution_count": null,
      "outputs": []
    },
    {
      "cell_type": "code",
      "metadata": {
        "id": "CBuuCcr5Atgj",
        "colab_type": "code",
        "colab": {
          "base_uri": "https://localhost:8080/",
          "height": 204
        },
        "outputId": "cb533ee8-fedb-4ec4-905c-9cebc1e39123"
      },
      "source": [
        "print(density)"
      ],
      "execution_count": null,
      "outputs": [
        {
          "output_type": "stream",
          "text": [
            "Earth      5.493286e-12\n",
            "Jupiter    1.240039e-12\n",
            "Mars       3.913302e-12\n",
            "Mercury    5.426538e-12\n",
            "Moon       3.343396e-11\n",
            "Neptune    1.603427e-12\n",
            "Pluto      2.094639e-12\n",
            "Saturn     6.194402e-13\n",
            "Uranus     1.241079e-12\n",
            "Venus      5.244977e-12\n",
            "dtype: float64\n"
          ],
          "name": "stdout"
        }
      ]
    },
    {
      "cell_type": "code",
      "metadata": {
        "id": "DIZ2v3fHAwTt",
        "colab_type": "code",
        "colab": {}
      },
      "source": [
        "mass['Planetx'] = 6\n"
      ],
      "execution_count": null,
      "outputs": []
    },
    {
      "cell_type": "code",
      "metadata": {
        "id": "PYzrTvwXCJFL",
        "colab_type": "code",
        "colab": {}
      },
      "source": [
        "density = mass / (np.pi * np.power(diameter, 3) / 6)"
      ],
      "execution_count": null,
      "outputs": []
    },
    {
      "cell_type": "code",
      "metadata": {
        "id": "t-A2h8taCNHk",
        "colab_type": "code",
        "colab": {
          "base_uri": "https://localhost:8080/",
          "height": 221
        },
        "outputId": "05920e9e-23cb-459c-f951-63e9b637d940"
      },
      "source": [
        "density"
      ],
      "execution_count": null,
      "outputs": [
        {
          "output_type": "execute_result",
          "data": {
            "text/plain": [
              "Earth      5.493286e-12\n",
              "Jupiter    1.240039e-12\n",
              "Mars       3.913302e-12\n",
              "Mercury    5.426538e-12\n",
              "Moon       3.343396e-11\n",
              "Neptune    1.603427e-12\n",
              "Planetx             NaN\n",
              "Pluto      2.094639e-12\n",
              "Saturn     6.194402e-13\n",
              "Uranus     1.241079e-12\n",
              "Venus      5.244977e-12\n",
              "dtype: float64"
            ]
          },
          "metadata": {
            "tags": []
          },
          "execution_count": 36
        }
      ]
    },
    {
      "cell_type": "code",
      "metadata": {
        "id": "vwGe7Q_yCOoc",
        "colab_type": "code",
        "colab": {}
      },
      "source": [
        ""
      ],
      "execution_count": null,
      "outputs": []
    }
  ]
}